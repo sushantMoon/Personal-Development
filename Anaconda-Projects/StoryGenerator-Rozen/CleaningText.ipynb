{
 "cells": [
  {
   "cell_type": "code",
   "execution_count": 113,
   "metadata": {
    "collapsed": true
   },
   "outputs": [],
   "source": [
    "import re"
   ]
  },
  {
   "cell_type": "code",
   "execution_count": 114,
   "metadata": {
    "collapsed": true
   },
   "outputs": [],
   "source": [
    "punctuations = '!\",-./;<=>?@[\\]^_`{}~'\n",
    "regex = re.compile('[%s]' % re.escape(punctuations))"
   ]
  },
  {
   "cell_type": "code",
   "execution_count": 115,
   "metadata": {
    "collapsed": true
   },
   "outputs": [],
   "source": [
    "def removePunctuations(line):\n",
    "    # removes punctuations and lowercases \n",
    "    return regex.sub('', line).lower()"
   ]
  },
  {
   "cell_type": "code",
   "execution_count": 116,
   "metadata": {
    "collapsed": true
   },
   "outputs": [],
   "source": [
    "# Input\n",
    "# Dataset 1\n",
    "inputFile = \"E:/GitHub/StoryGeneration/Input Dataset/Spring-2016.csv\"\n",
    "# Dataset 2\n",
    "# inputFile = \"E:/GitHub/StoryGeneration/Input Dataset/Winter-2017.csv\"\n",
    "\n",
    "# Output\n",
    "outputFile = \"E:/GitHub/StoryGeneration/Input Dataset/cleaned.data\""
   ]
  },
  {
   "cell_type": "markdown",
   "metadata": {},
   "source": [
    "##### Format of the CSVs :\n",
    "`storyid,storytitle,sentence1,sentence2,sentence3,sentence4,sentence5`\n",
    "\n",
    "* Sencentes can end in double quotes or fullstop.\n",
    "* After each sentence there will be a comma.\n",
    "* Comma can occur in middle of a sentence too, one or multiple times.\n",
    "* We only need sentences"
   ]
  },
  {
   "cell_type": "code",
   "execution_count": 112,
   "metadata": {
    "collapsed": true
   },
   "outputs": [],
   "source": [
    "with open(inputFile, 'r') as inputFD:\n",
    "    for line in inputFD:\n",
    "        if not line.startswith('#'):\n",
    "            try :\n",
    "                line = line.strip().replace('\"','').replace('!','.').replace('?','.')\n",
    "                line = [x.strip().strip(',') for x in line.split('.') if len(x) > 0]\n",
    "                line[0] = \",\".join(line[0].split(',')[2:])\n",
    "                with open(outputFile, 'a') as outputFD:\n",
    "                    for l in line:\n",
    "                        outputFD.write(removePunctuations(l))\n",
    "                        outputFD.write('\\n')\n",
    "            except : \n",
    "                pass"
   ]
  },
  {
   "cell_type": "markdown",
   "metadata": {},
   "source": [
    "##### Format of the output :\n",
    "\n",
    "Lines of cleaned sentences one after other without any punctuation"
   ]
  },
  {
   "cell_type": "code",
   "execution_count": null,
   "metadata": {
    "collapsed": true
   },
   "outputs": [],
   "source": []
  }
 ],
 "metadata": {
  "kernelspec": {
   "display_name": "Python 3",
   "language": "python",
   "name": "python3"
  },
  "language_info": {
   "codemirror_mode": {
    "name": "ipython",
    "version": 3
   },
   "file_extension": ".py",
   "mimetype": "text/x-python",
   "name": "python",
   "nbconvert_exporter": "python",
   "pygments_lexer": "ipython3",
   "version": "3.6.2"
  }
 },
 "nbformat": 4,
 "nbformat_minor": 2
}
