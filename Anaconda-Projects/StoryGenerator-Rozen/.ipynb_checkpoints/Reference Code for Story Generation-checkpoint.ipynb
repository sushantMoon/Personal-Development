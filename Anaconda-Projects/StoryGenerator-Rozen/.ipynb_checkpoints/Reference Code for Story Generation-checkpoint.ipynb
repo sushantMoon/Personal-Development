{
 "cells": [
  {
   "cell_type": "markdown",
   "metadata": {},
   "source": [
    "# Reference Code for Story Generator Project \n",
    "\n",
    "[Link](http://machinelearningmastery.com/text-generation-lstm-recurrent-neural-networks-python-keras/) "
   ]
  },
  {
   "cell_type": "code",
   "execution_count": 1,
   "metadata": {},
   "outputs": [
    {
     "name": "stderr",
     "output_type": "stream",
     "text": [
      "Using TensorFlow backend.\n"
     ]
    }
   ],
   "source": [
    "# Small LSTM Network to Generate Text for Alice in Wonderland\n",
    "import numpy\n",
    "from keras.models import Sequential\n",
    "from keras.layers import Dense\n",
    "from keras.layers import Dropout\n",
    "from keras.layers import LSTM\n",
    "from keras.callbacks import ModelCheckpoint\n",
    "from keras.utils import np_utils\n"
   ]
  },
  {
   "cell_type": "code",
   "execution_count": 7,
   "metadata": {},
   "outputs": [
    {
     "name": "stdout",
     "output_type": "stream",
     "text": [
      "Total Characters:  10474636\n",
      "Total Vocab:  68\n"
     ]
    }
   ],
   "source": [
    "# load ascii text and covert to lowercase\n",
    "# filename = \"wonderland.txt\"\n",
    "filename = \"E:/GitHub/StoryGeneration/Input Dataset/Spring-2016-cleaned.data\"\n",
    "raw_text = open(filename).read()\n",
    "raw_text = raw_text.lower()\n",
    "# create mapping of unique chars to integers\n",
    "chars = sorted(list(set(raw_text)))\n",
    "char_to_int = dict((c, i) for i, c in enumerate(chars))\n",
    "# summarize the loaded data\n",
    "n_chars = len(raw_text)\n",
    "n_vocab = len(chars)\n",
    "print(\"Total Characters: \", n_chars)\n",
    "print(\"Total Vocab: \", n_vocab)\n",
    "raw_text = raw_text[0:10000]"
   ]
  },
  {
   "cell_type": "code",
   "execution_count": 9,
   "metadata": {},
   "outputs": [
    {
     "name": "stdout",
     "output_type": "stream",
     "text": [
      "Total Patterns:  9900\n"
     ]
    }
   ],
   "source": [
    "# prepare the dataset of input to output pairs encoded as integers\n",
    "seq_length = 100\n",
    "dataX = []\n",
    "dataY = []\n",
    "for i in range(0, n_chars - seq_length, 1):\n",
    "    try:\n",
    "        seq_in = raw_text[i:i + seq_length]\n",
    "        seq_out = raw_text[i + seq_length]\n",
    "        dataX.append([char_to_int[char] for char in seq_in])\n",
    "        dataY.append(char_to_int[seq_out])\n",
    "    except:\n",
    "        pass\n",
    "n_patterns = len(dataX)\n",
    "print(\"Total Patterns: \", n_patterns)\n",
    "# reshape X to be [samples, time steps, features]\n",
    "X = numpy.reshape(dataX, (n_patterns, seq_length, 1))\n",
    "# normalize\n",
    "X = X / float(n_vocab)\n",
    "# one hot encode the output variable\n",
    "y = np_utils.to_categorical(dataY)"
   ]
  },
  {
   "cell_type": "code",
   "execution_count": 14,
   "metadata": {},
   "outputs": [
    {
     "name": "stdout",
     "output_type": "stream",
     "text": [
      "[[[ 0.67647059]\n",
      "  [ 0.77941176]\n",
      "  [ 0.52941176]\n",
      "  ..., \n",
      "  [ 0.66176471]\n",
      "  [ 0.75      ]\n",
      "  [ 0.73529412]]\n",
      "\n",
      " [[ 0.77941176]\n",
      "  [ 0.52941176]\n",
      "  [ 0.72058824]\n",
      "  ..., \n",
      "  [ 0.75      ]\n",
      "  [ 0.73529412]\n",
      "  [ 0.01470588]]\n",
      "\n",
      " [[ 0.52941176]\n",
      "  [ 0.72058824]\n",
      "  [ 0.79411765]\n",
      "  ..., \n",
      "  [ 0.73529412]\n",
      "  [ 0.01470588]\n",
      "  [ 0.58823529]]\n",
      "\n",
      " ..., \n",
      " [[ 0.76470588]\n",
      "  [ 0.75      ]\n",
      "  [ 0.57352941]\n",
      "  ..., \n",
      "  [ 0.66176471]\n",
      "  [ 0.01470588]\n",
      "  [ 0.75      ]]\n",
      "\n",
      " [[ 0.75      ]\n",
      "  [ 0.57352941]\n",
      "  [ 0.19117647]\n",
      "  ..., \n",
      "  [ 0.01470588]\n",
      "  [ 0.75      ]\n",
      "  [ 0.57352941]]\n",
      "\n",
      " [[ 0.57352941]\n",
      "  [ 0.19117647]\n",
      "  [ 0.73529412]\n",
      "  ..., \n",
      "  [ 0.75      ]\n",
      "  [ 0.57352941]\n",
      "  [ 0.52941176]]]\n"
     ]
    }
   ],
   "source": [
    "print(X)"
   ]
  },
  {
   "cell_type": "code",
   "execution_count": null,
   "metadata": {
    "collapsed": true
   },
   "outputs": [],
   "source": [
    "# define the LSTM model\n",
    "model = Sequential()\n",
    "model.add(LSTM(256, input_shape=(X.shape[1], X.shape[2])))\n",
    "model.add(Dropout(0.2))\n",
    "model.add(Dense(y.shape[1], activation='softmax'))\n",
    "model.compile(loss='categorical_crossentropy', optimizer='adam')\n",
    "# define the checkpoint\n",
    "filepath=\"weights-improvement-{epoch:02d}-{loss:.4f}.hdf5\"\n",
    "checkpoint = ModelCheckpoint(filepath, monitor='loss', verbose=1, save_best_only=True, mode='min')\n",
    "callbacks_list = [checkpoint]\n",
    "# fit the model\n",
    "model.fit(X, y, epochs=20, batch_size=128, callbacks=callbacks_list)"
   ]
  }
 ],
 "metadata": {
  "kernelspec": {
   "display_name": "Python 3",
   "language": "python",
   "name": "python3"
  },
  "language_info": {
   "codemirror_mode": {
    "name": "ipython",
    "version": 3
   },
   "file_extension": ".py",
   "mimetype": "text/x-python",
   "name": "python",
   "nbconvert_exporter": "python",
   "pygments_lexer": "ipython3",
   "version": "3.6.2"
  }
 },
 "nbformat": 4,
 "nbformat_minor": 2
}
