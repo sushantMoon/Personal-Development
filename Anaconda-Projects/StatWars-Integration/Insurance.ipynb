{
 "cells": [
  {
   "cell_type": "code",
   "execution_count": 32,
   "metadata": {},
   "outputs": [],
   "source": [
    "from sklearn.preprocessing import LabelEncoder\n",
    "from sklearn.model_selection import train_test_split\n",
    "import pandas as pd\n",
    "import numpy as np"
   ]
  },
  {
   "cell_type": "code",
   "execution_count": 131,
   "metadata": {},
   "outputs": [],
   "source": [
    "training_data = \"./insurance/insurance_training.csv\"\n",
    "testing_data_file = \"./insurance/insurance_predict.csv\"\n",
    "Y_testing_data_file = \"./insurance/insurance_sample.csv\""
   ]
  },
  {
   "cell_type": "code",
   "execution_count": 132,
   "metadata": {},
   "outputs": [],
   "source": [
    "data = pd.read_csv(training_data)\n",
    "testing_data = pd.read_csv(testing_data)"
   ]
  },
  {
   "cell_type": "code",
   "execution_count": 133,
   "metadata": {},
   "outputs": [],
   "source": [
    "columns = testing_data.columns.values"
   ]
  },
  {
   "cell_type": "code",
   "execution_count": 134,
   "metadata": {},
   "outputs": [],
   "source": [
    "le = LabelEncoder()"
   ]
  },
  {
   "cell_type": "code",
   "execution_count": 136,
   "metadata": {},
   "outputs": [
    {
     "name": "stdout",
     "output_type": "stream",
     "text": [
      "Sex [1 0]\n",
      "Age.Class [3 0 1 4 2 5]\n",
      "Education [3 0 2 1]\n",
      "Marital.Status [1 4 0 5 2 3]\n",
      "Income.Group [0 2 3 1]\n",
      "Need.help.making.financial.decisions [2 3 0 4 1]\n",
      "Do.not.like.to.be.in.debt.at.anytime [2 4 1 0 3]\n",
      "Feel.satistifed.when.I.get.a.really.good.deal [4 2 0 1 3]\n",
      "Like.to.buy.products.with.prestigious.brand.names [0 4 3 2 1]\n",
      "Always.try.to.buy.things.on.sale [4 1 0 2 3]\n",
      "Once.find.brand.that.satistifies..don.t.experiment [0 4 3 2 1]\n",
      "Confident.will.have.enough.money.to.retire [4 0 1 2 3]\n"
     ]
    }
   ],
   "source": [
    "for column in columns[1:-1]:\n",
    "    temp_data = data[column].append(testing_data[column])\n",
    "    print(column, temp_data.unique())\n",
    "    le.fit(temp_data.unique())\n",
    "    data[column] = le.transform(data[column])\n",
    "    testing_data[column] = le.transform(testing_data[column])\n",
    "    \n",
    "# 0/1 for the column that is to be predicted\n",
    "# this is done seperately so as to avoid the error with NaN values for labelEncoder\n",
    "data[columns[-1]] = data[columns[-1]].map(dict(Yes=1, No=0 ))"
   ]
  },
  {
   "cell_type": "code",
   "execution_count": 127,
   "metadata": {},
   "outputs": [
    {
     "name": "stdout",
     "output_type": "stream",
     "text": [
      "  Occupation.Class  Sex  Age.Class  Education  Marital.Status  Income.Group  \\\n",
      "0      Blue Collar    0          2          3               1             2   \n",
      "1      Blue Collar    1          1          3               4             2   \n",
      "2     White Collar    1          3          0               1             2   \n",
      "3              NaN    1          0          3               4             0   \n",
      "4              NaN    1          5          2               1             0   \n",
      "\n",
      "   Need.help.making.financial.decisions  Do.not.like.to.be.in.debt.at.anytime  \\\n",
      "0                                     0                                     1   \n",
      "1                                     0                                     1   \n",
      "2                                     0                                     0   \n",
      "3                                     4                                     0   \n",
      "4                                     3                                     1   \n",
      "\n",
      "   Feel.satistifed.when.I.get.a.really.good.deal  \\\n",
      "0                                              1   \n",
      "1                                              1   \n",
      "2                                              1   \n",
      "3                                              2   \n",
      "4                                              3   \n",
      "\n",
      "   Like.to.buy.products.with.prestigious.brand.names  \\\n",
      "0                                                  1   \n",
      "1                                                  0   \n",
      "2                                                  1   \n",
      "3                                                  2   \n",
      "4                                                  1   \n",
      "\n",
      "   Always.try.to.buy.things.on.sale  \\\n",
      "0                                 1   \n",
      "1                                 0   \n",
      "2                                 1   \n",
      "3                                 2   \n",
      "4                                 3   \n",
      "\n",
      "   Once.find.brand.that.satistifies..don.t.experiment  \\\n",
      "0                                                  1    \n",
      "1                                                  1    \n",
      "2                                                  1    \n",
      "3                                                  4    \n",
      "4                                                  1    \n",
      "\n",
      "   Confident.will.have.enough.money.to.retire  Have.life.insurance  \n",
      "0                                           2                  NaN  \n",
      "1                                           0                  NaN  \n",
      "2                                           1                  NaN  \n",
      "3                                           0                  NaN  \n",
      "4                                           1                  NaN  \n"
     ]
    }
   ],
   "source": [
    "# print(data.head())\n",
    "print(testing_data.head())"
   ]
  },
  {
   "cell_type": "code",
   "execution_count": 126,
   "metadata": {},
   "outputs": [],
   "source": [
    "# data.head()"
   ]
  },
  {
   "cell_type": "code",
   "execution_count": 42,
   "metadata": {},
   "outputs": [],
   "source": [
    "X_data = data[columns[1:-1]]\n",
    "Y_data = data[columns[-1]]\n",
    "# X_data, Y_data"
   ]
  },
  {
   "cell_type": "code",
   "execution_count": 43,
   "metadata": {},
   "outputs": [],
   "source": [
    "# X_train, X_test, Y_train, Y_test = train_test_split(X_data, Y_data, test_size=0.2)"
   ]
  },
  {
   "cell_type": "code",
   "execution_count": 158,
   "metadata": {},
   "outputs": [],
   "source": [
    "from sklearn.metrics import log_loss, f1_score\n",
    "from sklearn.model_selection import cross_val_score\n",
    "from sklearn.ensemble import RandomForestClassifier\n",
    "from sklearn.linear_model import LogisticRegression\n",
    "from sklearn.ensemble import AdaBoostClassifier\n",
    "from sklearn.svm import SVC\n",
    "from sklearn.ensemble import GradientBoostingClassifier\n",
    "\n",
    "from sklearn.tree import DecisionTreeClassifier\n",
    "from sklearn.neighbors import KNeighborsClassifier\n",
    "from sklearn.ensemble import VotingClassifier"
   ]
  },
  {
   "cell_type": "code",
   "execution_count": 72,
   "metadata": {},
   "outputs": [
    {
     "name": "stderr",
     "output_type": "stream",
     "text": [
      "C:\\Anaconda3\\envs\\python3\\lib\\site-packages\\sklearn\\linear_model\\logistic.py:433: FutureWarning: Default solver will be changed to 'lbfgs' in 0.22. Specify a solver to silence this warning.\n",
      "  FutureWarning)\n",
      "C:\\Anaconda3\\envs\\python3\\lib\\site-packages\\sklearn\\linear_model\\logistic.py:433: FutureWarning: Default solver will be changed to 'lbfgs' in 0.22. Specify a solver to silence this warning.\n",
      "  FutureWarning)\n",
      "C:\\Anaconda3\\envs\\python3\\lib\\site-packages\\sklearn\\linear_model\\logistic.py:433: FutureWarning: Default solver will be changed to 'lbfgs' in 0.22. Specify a solver to silence this warning.\n",
      "  FutureWarning)\n",
      "C:\\Anaconda3\\envs\\python3\\lib\\site-packages\\sklearn\\linear_model\\logistic.py:433: FutureWarning: Default solver will be changed to 'lbfgs' in 0.22. Specify a solver to silence this warning.\n",
      "  FutureWarning)\n",
      "C:\\Anaconda3\\envs\\python3\\lib\\site-packages\\sklearn\\linear_model\\logistic.py:433: FutureWarning: Default solver will be changed to 'lbfgs' in 0.22. Specify a solver to silence this warning.\n",
      "  FutureWarning)\n"
     ]
    },
    {
     "data": {
      "text/plain": [
       "-0.6615584106474699"
      ]
     },
     "execution_count": 72,
     "metadata": {},
     "output_type": "execute_result"
    }
   ],
   "source": [
    "# Logistic Regression\n",
    "l = LogisticRegression()\n",
    "# l.fit(X_train,Y_train)\n",
    "# Y_pred = l.predict_proba(X_test)\n",
    "# print(log_loss(Y_test,Y_pred))\n",
    "score = cross_val_score(l, X_data, Y_data, scoring='neg_log_loss', cv=5)  \n",
    "score.mean()"
   ]
  },
  {
   "cell_type": "code",
   "execution_count": 73,
   "metadata": {},
   "outputs": [
    {
     "data": {
      "text/plain": [
       "-0.6414113726530675"
      ]
     },
     "execution_count": 73,
     "metadata": {},
     "output_type": "execute_result"
    }
   ],
   "source": [
    "# Random Forest\n",
    "r = RandomForestClassifier(n_estimators=50,max_depth=5)\n",
    "# r.fit(X_train,Y_train)\n",
    "# Y_pred = r.predict_proba(X_test)\n",
    "# print(log_loss(Y_test,Y_pred))\n",
    "score = cross_val_score(r, X_data, Y_data, scoring='neg_log_loss', cv=5)  \n",
    "score.mean()"
   ]
  },
  {
   "cell_type": "code",
   "execution_count": 98,
   "metadata": {},
   "outputs": [
    {
     "data": {
      "text/plain": [
       "-0.669829090021354"
      ]
     },
     "execution_count": 98,
     "metadata": {},
     "output_type": "execute_result"
    }
   ],
   "source": [
    "# AdaBoost Algorithm\n",
    "ab = AdaBoostClassifier(n_estimators=100, learning_rate=0.01)\n",
    "# n_estimators : 50 (default value) \n",
    "# base_estimator : DecisionTreeClassifier (default value)\n",
    "# ab.fit(X_train,Y_train)\n",
    "# Y_pred = ab.predict(X_test)\n",
    "# print(log_loss(Y_test,Y_pred))\n",
    "score = cross_val_score(ab, X_data, Y_data, scoring='neg_log_loss', cv=5)  \n",
    "score.mean()"
   ]
  },
  {
   "cell_type": "code",
   "execution_count": 123,
   "metadata": {},
   "outputs": [
    {
     "name": "stdout",
     "output_type": "stream",
     "text": [
      "12.232613241113272\n"
     ]
    }
   ],
   "source": [
    "# AdaBoost Algorithm with Support Vector Classifier\n",
    "svcl=SVC(probability=True, kernel='linear')\n",
    "abc = AdaBoostClassifier(n_estimators=5, base_estimator=svcl, learning_rate=0.1)\n",
    "abc.fit(X_train, Y_train)\n",
    "Y_pred = abc.predict(X_test)\n",
    "print(log_loss(Y_test,Y_pred))"
   ]
  },
  {
   "cell_type": "code",
   "execution_count": 94,
   "metadata": {},
   "outputs": [
    {
     "data": {
      "text/plain": [
       "-0.7135096807841211"
      ]
     },
     "execution_count": 94,
     "metadata": {},
     "output_type": "execute_result"
    }
   ],
   "source": [
    "# Gradient Boosting \n",
    "gb = GradientBoostingClassifier(n_estimators=50, learning_rate=0.01, max_depth=15, random_state=0)\n",
    "score = cross_val_score(gb, X_data, Y_data, scoring='neg_log_loss', cv=5)  \n",
    "score.mean()"
   ]
  },
  {
   "cell_type": "code",
   "execution_count": 109,
   "metadata": {},
   "outputs": [
    {
     "data": {
      "text/plain": [
       "-0.6654351959948451"
      ]
     },
     "execution_count": 109,
     "metadata": {},
     "output_type": "execute_result"
    }
   ],
   "source": [
    "# Decision Tree \n",
    "dt = DecisionTreeClassifier(max_depth=3)\n",
    "score = cross_val_score(dt, X_data, Y_data, scoring='neg_log_loss', cv=5)  \n",
    "score.mean()"
   ]
  },
  {
   "cell_type": "code",
   "execution_count": 122,
   "metadata": {},
   "outputs": [
    {
     "data": {
      "text/plain": [
       "-0.6570058728645133"
      ]
     },
     "execution_count": 122,
     "metadata": {},
     "output_type": "execute_result"
    }
   ],
   "source": [
    "# KNN\n",
    "knn = KNeighborsClassifier(n_neighbors=200)\n",
    "score = cross_val_score(knn, X_data, Y_data, scoring='neg_log_loss', cv=5)  \n",
    "score.mean()"
   ]
  },
  {
   "cell_type": "code",
   "execution_count": 124,
   "metadata": {},
   "outputs": [
    {
     "data": {
      "text/plain": [
       "-0.6757158209965047"
      ]
     },
     "execution_count": 124,
     "metadata": {},
     "output_type": "execute_result"
    }
   ],
   "source": [
    "# Support Vector Classifier\n",
    "svcr = SVC(gamma='scale', kernel='rbf', probability=True)\n",
    "score = cross_val_score(svcr, X_data, Y_data, scoring='neg_log_loss', cv=5)  \n",
    "score.mean()\n"
   ]
  },
  {
   "cell_type": "code",
   "execution_count": 125,
   "metadata": {},
   "outputs": [
    {
     "name": "stderr",
     "output_type": "stream",
     "text": [
      "C:\\Anaconda3\\envs\\python3\\lib\\site-packages\\sklearn\\linear_model\\logistic.py:433: FutureWarning: Default solver will be changed to 'lbfgs' in 0.22. Specify a solver to silence this warning.\n",
      "  FutureWarning)\n",
      "C:\\Anaconda3\\envs\\python3\\lib\\site-packages\\sklearn\\linear_model\\logistic.py:433: FutureWarning: Default solver will be changed to 'lbfgs' in 0.22. Specify a solver to silence this warning.\n",
      "  FutureWarning)\n",
      "C:\\Anaconda3\\envs\\python3\\lib\\site-packages\\sklearn\\linear_model\\logistic.py:433: FutureWarning: Default solver will be changed to 'lbfgs' in 0.22. Specify a solver to silence this warning.\n",
      "  FutureWarning)\n",
      "C:\\Anaconda3\\envs\\python3\\lib\\site-packages\\sklearn\\linear_model\\logistic.py:433: FutureWarning: Default solver will be changed to 'lbfgs' in 0.22. Specify a solver to silence this warning.\n",
      "  FutureWarning)\n",
      "C:\\Anaconda3\\envs\\python3\\lib\\site-packages\\sklearn\\linear_model\\logistic.py:433: FutureWarning: Default solver will be changed to 'lbfgs' in 0.22. Specify a solver to silence this warning.\n",
      "  FutureWarning)\n"
     ]
    },
    {
     "data": {
      "text/plain": [
       "-0.6538049362949223"
      ]
     },
     "execution_count": 125,
     "metadata": {},
     "output_type": "execute_result"
    }
   ],
   "source": [
    "vc = VotingClassifier(estimators=[('dt', dt), ('knn', knn), ('svcr', svcr), ('gb', gb), ('ab', ab), ('l', l), ('r', r)],\n",
    "                      voting='soft', weights=[1, 1, 1, 1, 1, 1, 1])\n",
    "score = cross_val_score(vc, X_data, Y_data, scoring='neg_log_loss', cv=5)  \n",
    "score.mean()"
   ]
  },
  {
   "cell_type": "code",
   "execution_count": 150,
   "metadata": {},
   "outputs": [],
   "source": [
    "# testing_data.head()\n",
    "X_final_test = testing_data[columns[1:-1]]"
   ]
  },
  {
   "cell_type": "code",
   "execution_count": 151,
   "metadata": {},
   "outputs": [
    {
     "data": {
      "text/html": [
       "<div>\n",
       "<style scoped>\n",
       "    .dataframe tbody tr th:only-of-type {\n",
       "        vertical-align: middle;\n",
       "    }\n",
       "\n",
       "    .dataframe tbody tr th {\n",
       "        vertical-align: top;\n",
       "    }\n",
       "\n",
       "    .dataframe thead th {\n",
       "        text-align: right;\n",
       "    }\n",
       "</style>\n",
       "<table border=\"1\" class=\"dataframe\">\n",
       "  <thead>\n",
       "    <tr style=\"text-align: right;\">\n",
       "      <th></th>\n",
       "      <th>Sex</th>\n",
       "      <th>Age.Class</th>\n",
       "      <th>Education</th>\n",
       "      <th>Marital.Status</th>\n",
       "      <th>Income.Group</th>\n",
       "      <th>Need.help.making.financial.decisions</th>\n",
       "      <th>Do.not.like.to.be.in.debt.at.anytime</th>\n",
       "      <th>Feel.satistifed.when.I.get.a.really.good.deal</th>\n",
       "      <th>Like.to.buy.products.with.prestigious.brand.names</th>\n",
       "      <th>Always.try.to.buy.things.on.sale</th>\n",
       "      <th>Once.find.brand.that.satistifies..don.t.experiment</th>\n",
       "      <th>Confident.will.have.enough.money.to.retire</th>\n",
       "    </tr>\n",
       "  </thead>\n",
       "  <tbody>\n",
       "    <tr>\n",
       "      <th>0</th>\n",
       "      <td>0</td>\n",
       "      <td>2</td>\n",
       "      <td>3</td>\n",
       "      <td>1</td>\n",
       "      <td>2</td>\n",
       "      <td>0</td>\n",
       "      <td>1</td>\n",
       "      <td>1</td>\n",
       "      <td>1</td>\n",
       "      <td>1</td>\n",
       "      <td>1</td>\n",
       "      <td>2</td>\n",
       "    </tr>\n",
       "    <tr>\n",
       "      <th>1</th>\n",
       "      <td>1</td>\n",
       "      <td>1</td>\n",
       "      <td>3</td>\n",
       "      <td>4</td>\n",
       "      <td>2</td>\n",
       "      <td>0</td>\n",
       "      <td>1</td>\n",
       "      <td>1</td>\n",
       "      <td>0</td>\n",
       "      <td>0</td>\n",
       "      <td>1</td>\n",
       "      <td>0</td>\n",
       "    </tr>\n",
       "    <tr>\n",
       "      <th>2</th>\n",
       "      <td>1</td>\n",
       "      <td>3</td>\n",
       "      <td>0</td>\n",
       "      <td>1</td>\n",
       "      <td>2</td>\n",
       "      <td>0</td>\n",
       "      <td>0</td>\n",
       "      <td>1</td>\n",
       "      <td>1</td>\n",
       "      <td>1</td>\n",
       "      <td>1</td>\n",
       "      <td>1</td>\n",
       "    </tr>\n",
       "    <tr>\n",
       "      <th>3</th>\n",
       "      <td>1</td>\n",
       "      <td>0</td>\n",
       "      <td>3</td>\n",
       "      <td>4</td>\n",
       "      <td>0</td>\n",
       "      <td>4</td>\n",
       "      <td>0</td>\n",
       "      <td>2</td>\n",
       "      <td>2</td>\n",
       "      <td>2</td>\n",
       "      <td>4</td>\n",
       "      <td>0</td>\n",
       "    </tr>\n",
       "    <tr>\n",
       "      <th>4</th>\n",
       "      <td>1</td>\n",
       "      <td>5</td>\n",
       "      <td>2</td>\n",
       "      <td>1</td>\n",
       "      <td>0</td>\n",
       "      <td>3</td>\n",
       "      <td>1</td>\n",
       "      <td>3</td>\n",
       "      <td>1</td>\n",
       "      <td>3</td>\n",
       "      <td>1</td>\n",
       "      <td>1</td>\n",
       "    </tr>\n",
       "  </tbody>\n",
       "</table>\n",
       "</div>"
      ],
      "text/plain": [
       "   Sex  Age.Class  Education  Marital.Status  Income.Group  \\\n",
       "0    0          2          3               1             2   \n",
       "1    1          1          3               4             2   \n",
       "2    1          3          0               1             2   \n",
       "3    1          0          3               4             0   \n",
       "4    1          5          2               1             0   \n",
       "\n",
       "   Need.help.making.financial.decisions  Do.not.like.to.be.in.debt.at.anytime  \\\n",
       "0                                     0                                     1   \n",
       "1                                     0                                     1   \n",
       "2                                     0                                     0   \n",
       "3                                     4                                     0   \n",
       "4                                     3                                     1   \n",
       "\n",
       "   Feel.satistifed.when.I.get.a.really.good.deal  \\\n",
       "0                                              1   \n",
       "1                                              1   \n",
       "2                                              1   \n",
       "3                                              2   \n",
       "4                                              3   \n",
       "\n",
       "   Like.to.buy.products.with.prestigious.brand.names  \\\n",
       "0                                                  1   \n",
       "1                                                  0   \n",
       "2                                                  1   \n",
       "3                                                  2   \n",
       "4                                                  1   \n",
       "\n",
       "   Always.try.to.buy.things.on.sale  \\\n",
       "0                                 1   \n",
       "1                                 0   \n",
       "2                                 1   \n",
       "3                                 2   \n",
       "4                                 3   \n",
       "\n",
       "   Once.find.brand.that.satistifies..don.t.experiment  \\\n",
       "0                                                  1    \n",
       "1                                                  1    \n",
       "2                                                  1    \n",
       "3                                                  4    \n",
       "4                                                  1    \n",
       "\n",
       "   Confident.will.have.enough.money.to.retire  \n",
       "0                                           2  \n",
       "1                                           0  \n",
       "2                                           1  \n",
       "3                                           0  \n",
       "4                                           1  "
      ]
     },
     "execution_count": 151,
     "metadata": {},
     "output_type": "execute_result"
    }
   ],
   "source": [
    "X_final_test.head()"
   ]
  },
  {
   "cell_type": "code",
   "execution_count": 152,
   "metadata": {},
   "outputs": [],
   "source": [
    "Y_final_test = pd.read_csv(Y_testing_data_file)\n",
    "Y_final_test[columns[-1]] = Y_final_test[columns[-1]].map(dict(Yes=1, No=0))"
   ]
  },
  {
   "cell_type": "code",
   "execution_count": 153,
   "metadata": {},
   "outputs": [
    {
     "data": {
      "text/html": [
       "<div>\n",
       "<style scoped>\n",
       "    .dataframe tbody tr th:only-of-type {\n",
       "        vertical-align: middle;\n",
       "    }\n",
       "\n",
       "    .dataframe tbody tr th {\n",
       "        vertical-align: top;\n",
       "    }\n",
       "\n",
       "    .dataframe thead th {\n",
       "        text-align: right;\n",
       "    }\n",
       "</style>\n",
       "<table border=\"1\" class=\"dataframe\">\n",
       "  <thead>\n",
       "    <tr style=\"text-align: right;\">\n",
       "      <th></th>\n",
       "      <th>Have.life.insurance</th>\n",
       "    </tr>\n",
       "  </thead>\n",
       "  <tbody>\n",
       "    <tr>\n",
       "      <th>0</th>\n",
       "      <td>1</td>\n",
       "    </tr>\n",
       "    <tr>\n",
       "      <th>1</th>\n",
       "      <td>0</td>\n",
       "    </tr>\n",
       "    <tr>\n",
       "      <th>2</th>\n",
       "      <td>1</td>\n",
       "    </tr>\n",
       "    <tr>\n",
       "      <th>3</th>\n",
       "      <td>1</td>\n",
       "    </tr>\n",
       "    <tr>\n",
       "      <th>4</th>\n",
       "      <td>1</td>\n",
       "    </tr>\n",
       "  </tbody>\n",
       "</table>\n",
       "</div>"
      ],
      "text/plain": [
       "   Have.life.insurance\n",
       "0                    1\n",
       "1                    0\n",
       "2                    1\n",
       "3                    1\n",
       "4                    1"
      ]
     },
     "execution_count": 153,
     "metadata": {},
     "output_type": "execute_result"
    }
   ],
   "source": [
    "Y_final_test.head()"
   ]
  },
  {
   "cell_type": "code",
   "execution_count": 154,
   "metadata": {},
   "outputs": [
    {
     "name": "stderr",
     "output_type": "stream",
     "text": [
      "C:\\Anaconda3\\envs\\python3\\lib\\site-packages\\sklearn\\linear_model\\logistic.py:433: FutureWarning: Default solver will be changed to 'lbfgs' in 0.22. Specify a solver to silence this warning.\n",
      "  FutureWarning)\n"
     ]
    },
    {
     "name": "stdout",
     "output_type": "stream",
     "text": [
      "16.66508954512681\n"
     ]
    }
   ],
   "source": [
    "vc.fit(X_data, Y_data)\n",
    "Y_final_pred = vc.predict(X_final_test)\n",
    "print(log_loss(Y_final_test,Y_final_pred))"
   ]
  },
  {
   "cell_type": "code",
   "execution_count": 162,
   "metadata": {},
   "outputs": [
    {
     "data": {
      "text/plain": [
       "(119, Have.life.insurance    182\n",
       " dtype: int64, Have.life.insurance    400\n",
       " dtype: int64)"
      ]
     },
     "execution_count": 162,
     "metadata": {},
     "output_type": "execute_result"
    }
   ],
   "source": [
    "Y_final_pred.sum(), Y_final_test.sum(), Y_final_test.count()"
   ]
  },
  {
   "cell_type": "code",
   "execution_count": 159,
   "metadata": {},
   "outputs": [
    {
     "name": "stdout",
     "output_type": "stream",
     "text": [
      "0.3588039867109635\n"
     ]
    }
   ],
   "source": [
    "print(f1_score(Y_final_test, Y_final_pred))"
   ]
  }
 ],
 "metadata": {
  "kernelspec": {
   "display_name": "Python 3",
   "language": "python",
   "name": "python3"
  },
  "language_info": {
   "codemirror_mode": {
    "name": "ipython",
    "version": 3
   },
   "file_extension": ".py",
   "mimetype": "text/x-python",
   "name": "python",
   "nbconvert_exporter": "python",
   "pygments_lexer": "ipython3",
   "version": "3.7.2"
  }
 },
 "nbformat": 4,
 "nbformat_minor": 2
}
